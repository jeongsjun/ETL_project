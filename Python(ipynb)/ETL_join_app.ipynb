{
 "cells": [
  {
   "cell_type": "code",
   "execution_count": 1,
   "metadata": {
    "colab": {
     "base_uri": "https://localhost:8080/"
    },
    "executionInfo": {
     "elapsed": 15362,
     "status": "ok",
     "timestamp": 1746859297560,
     "user": {
      "displayName": "정승준",
      "userId": "09589207392020316571"
     },
     "user_tz": -540
    },
    "id": "9YVY_Y2tQAxA",
    "outputId": "31472819-a0cd-466b-dc39-928ec3f27cf0"
   },
   "outputs": [
    {
     "name": "stdout",
     "output_type": "stream",
     "text": [
      "Collecting pymysql\n",
      "  Downloading PyMySQL-1.1.1-py3-none-any.whl.metadata (4.4 kB)\n",
      "Requirement already satisfied: sqlalchemy in /usr/local/lib/python3.11/dist-packages (2.0.40)\n",
      "Requirement already satisfied: greenlet>=1 in /usr/local/lib/python3.11/dist-packages (from sqlalchemy) (3.2.1)\n",
      "Requirement already satisfied: typing-extensions>=4.6.0 in /usr/local/lib/python3.11/dist-packages (from sqlalchemy) (4.13.2)\n",
      "Downloading PyMySQL-1.1.1-py3-none-any.whl (44 kB)\n",
      "\u001b[2K   \u001b[90m━━━━━━━━━━━━━━━━━━━━━━━━━━━━━━━━━━━━━━━━\u001b[0m \u001b[32m45.0/45.0 kB\u001b[0m \u001b[31m1.6 MB/s\u001b[0m eta \u001b[36m0:00:00\u001b[0m\n",
      "\u001b[?25hInstalling collected packages: pymysql\n",
      "Successfully installed pymysql-1.1.1\n"
     ]
    }
   ],
   "source": [
    "!pip install pymysql sqlalchemy"
   ]
  },
  {
   "cell_type": "markdown",
   "metadata": {
    "id": "JF9Jr9x1Aknu"
   },
   "source": [
    "# 필요 라이브러리 import"
   ]
  },
  {
   "cell_type": "code",
   "execution_count": null,
   "metadata": {
    "id": "dB84Ryw2kHv1"
   },
   "outputs": [],
   "source": [
    "from sqlalchemy import create_engine, inspect\n",
    "import pandas as pd\n",
    "from datetime import datetime\n",
    "from zoneinfo import ZoneInfo"
   ]
  },
  {
   "cell_type": "code",
   "execution_count": null,
   "metadata": {
    "id": "w8ANdo9lkQCv"
   },
   "outputs": [],
   "source": [
    "# DB 연결 정보\n",
    "user = 'kopouser'\n",
    "password = 'kopouser'\n",
    "host = '127.0.0.1'\n",
    "port = '3306'\n",
    "database = \"kopo\"\n",
    "\n",
    "# mysql 커넥터 엔진 생성\n",
    "engine = create_engine(f'mysql+pymysql://{user}:{password}@{host}:{port}/{database}?ssl_disabled=True')\n",
    "\n",
    "# 현재 한국 시간 설정\n",
    "current_time = datetime.now(ZoneInfo(\"Asia/Seoul\"))\n",
    "current_time = current_time.strftime(\"%Y-%m-%d %H:%M:%S\")"
   ]
  },
  {
   "cell_type": "markdown",
   "metadata": {
    "id": "H3pn6kTBuC4c"
   },
   "source": [
    "# 연도별 피해액 복구비 데이터 병합 및 DB append 함수"
   ]
  },
  {
   "cell_type": "code",
   "execution_count": null,
   "metadata": {
    "id": "mY6vFBU4kTA8"
   },
   "outputs": [],
   "source": [
    "def join_year_damage_cost():\n",
    "    \"\"\"\n",
    "    함수 정의: 연도별 자연재해 피해액 데이터(disaster_damage_by_year)과 복구비용 데이터(recovery_cost_by_year)를 연도 기준으로 JOIN하여 데이터프레임으로 만들고, 이를 데이터베이스에 저장하는 함수\n",
    "\n",
    "    입력 파라미터: 없음\n",
    "\n",
    "    출력 결과: 없음 (결과는 'year_damage_cost' 테이블에 저장됨)\n",
    "    \"\"\"\n",
    "\n",
    "    # SQL 쿼리문: 연도별 피해액 데이터(disaster_damage_by_year)와 복구비용 데이터(recovery_cost_by_year)를 연도 기준으로 INNER JOIN\n",
    "    year_damage_cost_joinSql = \"\"\"\n",
    "    SELECT\n",
    "        A.year,\n",
    "        A.total AS total_damage,\n",
    "        B.total AS total_cost,\n",
    "        A.typhoon AS typhoon_damage,\n",
    "        B.typhoon AS typhoon_cost,\n",
    "        A.heavy_rain AS heavy_rain_damage,\n",
    "        B.heavy_rain AS heavy_rain_cost,\n",
    "        A.heavy_snow AS heavy_snow_damage,\n",
    "        B.heavy_snow AS heavy_snow_cost,\n",
    "        A.heavy_wind AS heavy_wind_damage,\n",
    "        B.heavy_wind AS heavy_wind_cost,\n",
    "        A.wind_wave_strong_wind AS wind_wave_strong_wind_damage,\n",
    "        B.wind_wave_strong_wind AS wind_wave_strong_wind_cost,\n",
    "        A.typhoon_heavy_rain AS typhoon_heavy_rain_damage,\n",
    "        B.typhoon_heavy_rain AS typhoon_heavy_rain_cost,\n",
    "        A.lightning AS lightning_damage,\n",
    "        B.lightning AS lightning_cost,\n",
    "        A.cold_wave AS cold_wave_damage,\n",
    "        B.cold_wave AS cold_wave_cost,\n",
    "        A.earthquake AS earthquake_damage,\n",
    "        B.earthquake AS earthquake_cost,\n",
    "        A.heatwave AS heatwave_damage,\n",
    "        B.heatwave AS heatwave_cost\n",
    "    FROM disaster_damage_by_year A\n",
    "    INNER JOIN recovery_cost_by_year B\n",
    "    ON A.year = B.year;\n",
    "    \"\"\"\n",
    "\n",
    "    # SQL 쿼리를 실행하여 데이터프레임으로 변환\n",
    "    year_damage_cost_result = pd.read_sql_query(sql = year_damage_cost_joinSql, con = engine)\n",
    "\n",
    "    # 현재 시각(current_time)을 'timetag' 컬럼으로 데이터프레임에 추가\n",
    "    year_damage_cost_result.insert(0, 'timetag', current_time)\n",
    "\n",
    "    # 저장할 테이블 이름 지정\n",
    "    table_name = \"year_damage_cost\"\n",
    "\n",
    "    # 데이터프레임을 데이터베이스에 저장 (기존 데이터는 유지하고 append 방식으로 추가)\n",
    "    year_damage_cost_result.to_sql(name = table_name, con = engine, if_exists=\"append\", index=False)"
   ]
  },
  {
   "cell_type": "markdown",
   "metadata": {
    "id": "YxK8RSIbuPXY"
   },
   "source": [
    "# 연도별 재해 유형별 피해 대비 복구 비용 비율 데이터 병합 및 DB append 함수"
   ]
  },
  {
   "cell_type": "code",
   "execution_count": null,
   "metadata": {
    "id": "N-Je5276rLrg"
   },
   "outputs": [],
   "source": [
    "def join_year_cost_ratio():\n",
    "    \"\"\"\n",
    "    함수 정의: 연도별 자연재해 피해액 데이터(disaster_damage_by_year)과 복구비용 데이터(recovery_cost_by_year)를\n",
    "              연도 기준으로 JOIN하여 연도별 자연재해 유형별 피해액 대비 복구비용 비율을 계산하여\n",
    "              데이터프레임으로 생성하고 데이터베이스에 저장하는 함수\n",
    "\n",
    "    입력 파라미터: 없음\n",
    "\n",
    "    출력 결과: 없음 (결과는 'year_cost_ratio' 테이블에 저장됨)\n",
    "    \"\"\"\n",
    "\n",
    "    # SQL 쿼리문: 연도별 피해액(disaster_damage_by_year)과 복구비용(recovery_cost_by_year)을 연도 기준으로 JOIN하고, 복구비용/피해액 비율 계산\n",
    "    # NULL 또는 0으로 나눌 경우를 방지하기 위해 CASE 문 사용\n",
    "    year_cost_ratio_joinSql = \"\"\"\n",
    "    SELECT\n",
    "        A.year,\n",
    "        A.typhoon AS typhoon_damage,\n",
    "        B.typhoon AS typhoon_cost,\n",
    "        CASE WHEN B.typhoon/A.typhoon IS NULL THEN 0\n",
    "        ELSE B.typhoon/A.typhoon END AS 'typhoon_cost/damage_ratio',\n",
    "        A.heavy_rain AS heavy_rain_damage,\n",
    "        B.heavy_rain AS heavy_rain_cost,\n",
    "        CASE WHEN B.heavy_rain/A.heavy_rain IS NULL THEN 0\n",
    "        ELSE B.heavy_rain/A.heavy_rain END AS 'heavy_rain_cost/damage_ratio',\n",
    "        A.heavy_snow AS heavy_snow_damage,\n",
    "        B.heavy_snow AS heavy_snow_cost,\n",
    "        CASE WHEN B.heavy_snow/A.heavy_snow IS NULL THEN 0\n",
    "        ELSE B.heavy_snow/A.heavy_snow END AS 'heavy_snow_cost/damage_ratio',\n",
    "        A.heavy_wind AS heavy_wind_damage,\n",
    "        B.heavy_wind AS heavy_wind_cost,\n",
    "        CASE WHEN B.heavy_wind/A.heavy_wind IS NULL THEN 0\n",
    "        ELSE B.heavy_wind/A.heavy_wind END AS 'heavy_wind_cost/damage_ratio',\n",
    "        A.wind_wave_strong_wind AS wind_wave_strong_wind_damage,\n",
    "        B.wind_wave_strong_wind AS wind_wave_strong_wind_cost,\n",
    "        CASE WHEN B.wind_wave_strong_wind/A.wind_wave_strong_wind IS NULL THEN 0\n",
    "        ELSE B.wind_wave_strong_wind/A.wind_wave_strong_wind END AS 'wind_wave_strong_wind_cost/damage_ratio',\n",
    "        A.typhoon_heavy_rain AS typhoon_heavy_rain_damage,\n",
    "        B.typhoon_heavy_rain AS typhoon_heavy_rain_cost,\n",
    "        CASE WHEN B.typhoon_heavy_rain/A.typhoon_heavy_rain IS NULL THEN 0\n",
    "        ELSE B.typhoon_heavy_rain/A.typhoon_heavy_rain END AS 'typhoon_heavy_rain_cost/damage_ratio',\n",
    "        A.lightning AS lightning_damage,\n",
    "        B.lightning AS lightning_cost,\n",
    "        CASE WHEN B.lightning/A.lightning IS NULL THEN 0\n",
    "        ELSE B.lightning/A.lightning END AS 'lightning_cost/damage_ratio',\n",
    "        A.cold_wave AS cold_wave_damage,\n",
    "        B.cold_wave AS cold_wave_cost,\n",
    "        CASE WHEN B.cold_wave/A.cold_wave IS NULL THEN 0\n",
    "        ELSE B.cold_wave/A.cold_wave END AS 'cold_wave_cost/damage_ratio',\n",
    "        A.earthquake AS earthquake_damage,\n",
    "        B.earthquake AS earthquake_cost,\n",
    "        CASE WHEN B.earthquake/A.earthquake IS NULL THEN 0\n",
    "        ELSE B.earthquake/A.earthquake END AS 'earthquake_cost/damage_ratio',\n",
    "        A.heatwave AS heatwave_damage,\n",
    "        B.heatwave AS heatwave_cost,\n",
    "        CASE WHEN B.heatwave/A.heatwave IS NULL THEN 0\n",
    "        ELSE B.heatwave/A.heatwave END AS 'heatwave_cost/damage_ratio'\n",
    "    FROM disaster_damage_by_year A\n",
    "    INNER JOIN recovery_cost_by_year B\n",
    "    ON A.year = B.year;\n",
    "    \"\"\"\n",
    "\n",
    "    # SQL 쿼리를 실행하여 데이터프레임으로 변환\n",
    "    year_cost_ratio_result = pd.read_sql_query(sql = year_cost_ratio_joinSql, con = engine)\n",
    "\n",
    "    # 현재 시각(current_time)을 'timetag' 컬럼으로 데이터프레임에 추가\n",
    "    year_cost_ratio_result.insert(0, 'timetag', current_time)\n",
    "\n",
    "    # 저장할 테이블 이름 지정\n",
    "    table_name = \"year_cost_ratio\"\n",
    "\n",
    "    # 데이터프레임을 데이터베이스에 저장 (기존 데이터는 유지하고 append 방식으로 추가)\n",
    "    year_cost_ratio_result.to_sql(name = table_name, con = engine, if_exists=\"append\", index=False)"
   ]
  },
  {
   "cell_type": "markdown",
   "metadata": {
    "id": "rfwwjxc5uUt2"
   },
   "source": [
    "# 지역별 피해액 복구비 데이터 데이터 병합 및 DB append 함수"
   ]
  },
  {
   "cell_type": "code",
   "execution_count": null,
   "metadata": {
    "id": "hoEdJr-WsGja"
   },
   "outputs": [],
   "source": [
    "def join_region_damage_cost():\n",
    "    \"\"\"\n",
    "    함수 정의: 지역별 자연재해 피해액 데이터(disaster_damage_by_region)과 복구비용 데이터(recovery_cost_by_region)를\n",
    "              연도와 지역 기준으로 JOIN하여 데이터프레임으로 생성하고 데이터베이스에 저장하는 함수\n",
    "\n",
    "    입력 파라미터: 없음\n",
    "\n",
    "    출력 결과: 없음 (결과는 'region_damage_cost' 테이블에 저장됨)\n",
    "    \"\"\"\n",
    "    region_damage_cost_joinSql = \"\"\"\n",
    "        SELECT\n",
    "        MAX(A.year) AS until_year,\n",
    "        A.region,\n",
    "        SUM(A.typhoon) AS typhoon_damage,\n",
    "        SUM(B.typhoon) AS typhoon_cost,\n",
    "        SUM(A.heavy_rain) AS heavy_rain_damage,\n",
    "        SUM(B.heavy_rain) AS heavy_rain_cost,\n",
    "        SUM(A.heavy_snow) AS heavy_snow_damage,\n",
    "        SUM(B.heavy_snow) AS heavy_snow_cost,\n",
    "        SUM(A.heavy_wind) AS heavy_wind_damage,\n",
    "        SUM(B.heavy_wind) AS heavy_wind_cost,\n",
    "        SUM(A.wind_wave_strong_wind) AS wind_wave_strong_wind_damage,\n",
    "        SUM(B.wind_wave_strong_wind) AS wind_wave_strong_wind_cost,\n",
    "        SUM(A.typhoon_heavy_rain) AS typhoon_heavy_rain_damage,\n",
    "        SUM(B.typhoon_heavy_rain) AS typhoon_heavy_rain_cost,\n",
    "        SUM(A.lightning) AS lightning_damage,\n",
    "        SUM(B.lightning) AS lightning_cost,\n",
    "        SUM(A.cold_wave) AS cold_wave_damage,\n",
    "        SUM(B.cold_wave) AS cold_wave_cost,\n",
    "        SUM(A.earthquake) AS earthquake_damage,\n",
    "        SUM(B.earthquake) AS earthquake_cost,\n",
    "        SUM(A.heatwave) AS heatwave_damage,\n",
    "        SUM(B.heatwave) AS heatwave_cost\n",
    "    FROM disaster_damage_by_region A\n",
    "    INNER JOIN recovery_cost_by_region B\n",
    "    ON A.region = B.region\n",
    "    AND A.year = B.year\n",
    "    GROUP BY A.region;\n",
    "    \"\"\"\n",
    "\n",
    "    # SQL 쿼리를 실행하여 데이터프레임으로 변환\n",
    "    region_damage_cost_result = pd.read_sql_query(sql = region_damage_cost_joinSql, con = engine)\n",
    "\n",
    "    # 현재 시각(current_time)을 'timetag' 컬럼으로 데이터프레임에 추가\n",
    "    region_damage_cost_result.insert(0, 'timetag', current_time)\n",
    "\n",
    "    # 저장할 테이블 이름 지정\n",
    "    table_name = \"region_damage_cost\"\n",
    "\n",
    "    # 데이터프레임을 데이터베이스에 저장 (기존 데이터는 유지하고 append 방식으로 추가)\n",
    "    region_damage_cost_result.to_sql(name = table_name, con = engine, if_exists=\"append\", index=False)"
   ]
  },
  {
   "cell_type": "markdown",
   "metadata": {
    "id": "H2xT3OI0ua3I"
   },
   "source": [
    "# 지역별 재해 유형별 피해 대비 복구 비용 비율 데이터 병합 및 DB append 함수"
   ]
  },
  {
   "cell_type": "code",
   "execution_count": null,
   "metadata": {
    "id": "fDAAkzZCtNhQ"
   },
   "outputs": [],
   "source": [
    "def join_region_cost_ratio():\n",
    "    \"\"\"\n",
    "    함수 정의: 연도별 자연재해 피해액 데이터(disaster_damage_by_year)과 복구비용 데이터(recovery_cost_by_year)를\n",
    "              연도와 지역 기준으로 JOIN하여 지역별 자연재해 유형별 피해액 대비 복구비용 비율을 계산하여\n",
    "              데이터프레임으로 생성하고 데이터베이스에 저장하는 함수\n",
    "\n",
    "    입력 파라미터: 없음\n",
    "\n",
    "    출력 결과: 없음 (결과는 'region_cost_ratio' 테이블에 저장됨)\n",
    "    \"\"\"\n",
    "    region_cost_ratio_joinSql = \"\"\"\n",
    "    SELECT\n",
    "        MAX(A.year) AS until_year,\n",
    "        A.region,\n",
    "        SUM(A.typhoon) AS typhoon_damage,\n",
    "        SUM(B.typhoon) AS typhoon_cost,\n",
    "        CASE WHEN SUM(B.typhoon)/SUM(A.typhoon) IS NULL THEN 0\n",
    "        ELSE SUM(B.typhoon)/SUM(A.typhoon) END AS 'typhoon_cost/damage_ratio',\n",
    "        SUM(A.heavy_rain) AS heavy_rain_damage,\n",
    "        SUM(B.heavy_rain) AS heavy_rain_cost,\n",
    "        CASE WHEN SUM(B.heavy_rain)/SUM(A.heavy_rain) IS NULL THEN 0\n",
    "        ELSE SUM(B.heavy_rain)/SUM(A.heavy_rain) END AS 'heavy_rain_cost/damage_ratio',\n",
    "        SUM(A.heavy_snow) AS heavy_snow_damage,\n",
    "        SUM(B.heavy_snow) AS heavy_snow_cost,\n",
    "        CASE WHEN SUM(B.heavy_snow)/SUM(A.heavy_snow) IS NULL THEN 0\n",
    "        ELSE SUM(B.heavy_snow)/SUM(A.heavy_snow) END AS 'heavy_snow_cost/damage_ratio',\n",
    "        SUM(A.heavy_wind) AS heavy_wind_damage,\n",
    "        SUM(B.heavy_wind) AS heavy_wind_cost,\n",
    "        CASE WHEN SUM(B.heavy_wind)/SUM(A.heavy_wind) IS NULL THEN 0\n",
    "        ELSE SUM(B.heavy_wind)/SUM(A.heavy_wind) END AS 'heavy_wind_cost/damage_ratio',\n",
    "        SUM(A.wind_wave_strong_wind) AS wind_wave_strong_wind_damage,\n",
    "        SUM(B.wind_wave_strong_wind) AS wind_wave_strong_wind_cost,\n",
    "        CASE WHEN SUM(B.wind_wave_strong_wind)/SUM(A.wind_wave_strong_wind) IS NULL THEN 0\n",
    "        ELSE SUM(B.wind_wave_strong_wind)/SUM(A.wind_wave_strong_wind) END AS 'wind_wave_strong_wind_cost/damage_ratio',\n",
    "        SUM(A.typhoon_heavy_rain) AS typhoon_heavy_rain_damage,\n",
    "        SUM(B.typhoon_heavy_rain) AS typhoon_heavy_rain_cost,\n",
    "        CASE WHEN SUM(B.typhoon_heavy_rain)/SUM(A.typhoon_heavy_rain) IS NULL THEN 0\n",
    "        ELSE SUM(B.typhoon_heavy_rain)/SUM(A.typhoon_heavy_rain) END AS 'typhoon_heavy_rain_cost/damage_ratio',\n",
    "        SUM(A.lightning) AS lightning_damage,\n",
    "        SUM(B.lightning) AS lightning_cost,\n",
    "        CASE WHEN SUM(B.lightning)/SUM(A.lightning) IS NULL THEN 0\n",
    "        ELSE SUM(B.lightning)/SUM(A.lightning) END AS 'lightning_cost/damage_ratio',\n",
    "        SUM(A.cold_wave) AS cold_wave_damage,\n",
    "        SUM(B.cold_wave) AS cold_wave_cost,\n",
    "        CASE WHEN SUM(B.cold_wave)/SUM(A.cold_wave) IS NULL THEN 0\n",
    "        ELSE SUM(B.cold_wave)/SUM(A.cold_wave) END AS 'cold_wave_cost/damage_ratio',\n",
    "        SUM(A.earthquake) AS earthquake_damage,\n",
    "        SUM(B.earthquake) AS earthquake_cost,\n",
    "        CASE WHEN SUM(B.earthquake)/SUM(A.earthquake) IS NULL THEN 0\n",
    "        ELSE SUM(B.earthquake)/SUM(A.earthquake) END AS 'earthquake_cost/damage_ratio',\n",
    "        SUM(A.heatwave) AS heatwave_damage,\n",
    "        SUM(B.heatwave) AS heatwave_cost,\n",
    "        CASE WHEN SUM(B.heatwave)/SUM(A.heatwave) IS NULL THEN 0\n",
    "        ELSE SUM(B.heatwave)/SUM(A.heatwave) END AS 'heatwave_cost/damage_ratio'\n",
    "    FROM disaster_damage_by_region A\n",
    "    INNER JOIN recovery_cost_by_region B\n",
    "    ON A.region = B.region\n",
    "    AND A.year = B.year\n",
    "    GROUP BY A.region;\n",
    "    \"\"\"\n",
    "\n",
    "    # SQL 쿼리를 실행하여 데이터프레임으로 변환\n",
    "    region_cost_ratio_result = pd.read_sql_query(sql = region_cost_ratio_joinSql, con = engine)\n",
    "\n",
    "    # 현재 시각(current_time)을 'timetag' 컬럼으로 데이터프레임에 추가\n",
    "    region_cost_ratio_result.insert(0, 'timetag', current_time)\n",
    "\n",
    "    # 저장할 테이블 이름 지정\n",
    "    table_name = \"region_cost_ratio\"\n",
    "\n",
    "    # 데이터프레임을 데이터베이스에 저장 (기존 데이터는 유지하고 append 방식으로 추가)\n",
    "    region_cost_ratio_result.to_sql(name = table_name, con = engine, if_exists=\"append\", index=False)"
   ]
  },
  {
   "cell_type": "markdown",
   "metadata": {
    "id": "SrG0OmvQyHqw"
   },
   "source": [
    "# 데이터 검증 로직"
   ]
  },
  {
   "cell_type": "code",
   "execution_count": null,
   "metadata": {
    "id": "ghZc_0BlyHZq"
   },
   "outputs": [],
   "source": [
    "def verify_count():\n",
    "    \"\"\"\n",
    "    함수 정의: 데이터베이스 내 네 개의 테이블(year_damage_cost, year_cost_ratio, region_damage_cost, region_cost_ratio)의\n",
    "              행 개수를 확인하여 출력하는 함수\n",
    "\n",
    "    입력 파라미터: 없음\n",
    "\n",
    "    출력 결과: 각 테이블별 행 개수를 콘솔에 출력(테이블이 존재하지 않거나 에러 발생 시 0으로 출력)\n",
    "    \"\"\"\n",
    "\n",
    "    # year_damage_cost 테이블의 데이터 개수 확인\n",
    "    year_damage_cost_verifySql = \"\"\"\n",
    "    SELECT count(*) AS count\n",
    "    FROM year_damage_cost;\n",
    "    \"\"\"\n",
    "\n",
    "    # 예외 처리 (테이블이 존재하지 않는 경우 테이블 행의 개수를 0으로 출력)\n",
    "    try:\n",
    "        # SQL 실행 후 결과를 데이터프레임으로 변환\n",
    "        result = pd.read_sql_query(sql = year_damage_cost_verifySql, con = engine)\n",
    "\n",
    "        # count 값을 출력\n",
    "        print(f\"year_damage_cost : {result['count'][0]}\")\n",
    "\n",
    "    except:\n",
    "        # 테이블이 없거나 오류 발생 시 0 출력\n",
    "        print(\"year_damage_cost : 0\")\n",
    "\n",
    "\n",
    "    # year_cost_ratio 테이블의 데이터 개수 확인\n",
    "    year_cost_ratio_verifySql = \"\"\"\n",
    "    SELECT count(*) AS count\n",
    "    FROM year_cost_ratio;\n",
    "    \"\"\"\n",
    "\n",
    "    # 예외 처리 (테이블이 존재하지 않는 경우 테이블 행의 개수를 0으로 출력)\n",
    "    try:\n",
    "        # SQL 실행 후 결과를 데이터프레임으로 변환\n",
    "        result = pd.read_sql_query(sql = year_cost_ratio_verifySql, con = engine)\n",
    "\n",
    "        # count 값을 출력\n",
    "        print(f\"year_cost_ratio : {result['count'][0]}\")\n",
    "\n",
    "    except:\n",
    "        # 테이블이 없거나 오류 발생 시 0 출력\n",
    "        print(\"year_cost_ratio : 0\")\n",
    "\n",
    "    # region_damage_cost 테이블의 데이터 개수 확인\n",
    "    region_damage_cost_verifySql = \"\"\"\n",
    "    SELECT count(*) AS count\n",
    "    FROM region_damage_cost;\n",
    "    \"\"\"\n",
    "\n",
    "    # 예외 처리 (테이블이 존재하지 않는 경우 테이블 행의 개수를 0으로 출력)\n",
    "    try:\n",
    "        # SQL 실행 후 결과를 데이터프레임으로 변환\n",
    "        result = pd.read_sql_query(sql = region_damage_cost_verifySql, con = engine)\n",
    "\n",
    "        # count 값을 출력\n",
    "        print(f\"region_damage_cost : {result['count'][0]}\")\n",
    "\n",
    "    except:\n",
    "        # 테이블이 없거나 오류 발생 시 0 출력\n",
    "        print(\"region_damage_cost : 0\")\n",
    "\n",
    "    # region_cost_ratio 테이블의 데이터 개수 확인\n",
    "    region_cost_ratio_verifySql = \"\"\"\n",
    "    SELECT count(*) AS count\n",
    "    FROM region_cost_ratio;\n",
    "    \"\"\"\n",
    "\n",
    "    # 예외 처리 (테이블이 존재하지 않는 경우 테이블 행의 개수를 0으로 출력)\n",
    "    try:\n",
    "        # SQL 실행 후 결과를 데이터프레임으로 변환\n",
    "        result = pd.read_sql_query(sql = region_cost_ratio_verifySql, con = engine)\n",
    "\n",
    "        # count 값을 출력\n",
    "        print(f\"region_cost_ratio : {result['count'][0]}\")\n",
    "\n",
    "    except:\n",
    "        # 테이블이 없거나 오류 발생 시 0 출력\n",
    "        print(\"region_cost_ratio : 0\")"
   ]
  },
  {
   "cell_type": "markdown",
   "metadata": {
    "id": "2UQj0JfVaBI2"
   },
   "source": [
    "# 데이터 병합 및 검증 결과 출력"
   ]
  },
  {
   "cell_type": "code",
   "execution_count": null,
   "metadata": {
    "colab": {
     "base_uri": "https://localhost:8080/"
    },
    "executionInfo": {
     "elapsed": 3332,
     "status": "ok",
     "timestamp": 1746787822693,
     "user": {
      "displayName": "정승준",
      "userId": "09589207392020316571"
     },
     "user_tz": -540
    },
    "id": "0Otu2JrJwbYq",
    "outputId": "19f4e6ff-9372-45a2-b2ea-a8f7189a6f9e"
   },
   "outputs": [
    {
     "name": "stdout",
     "output_type": "stream",
     "text": [
      "\n",
      "====== 2025-05-09 19:47:56 기록 ======\n",
      "데이터 JOIN 전 테이블 COUNT\n",
      "year_damage_cost : 6\n",
      "year_cost_ratio : 6\n",
      "region_damage_cost : 72\n",
      "region_cost_ratio : 72\n",
      "\n",
      "데이터 JOIN 후 테이블 COUNT\n",
      "year_damage_cost : 8\n",
      "year_cost_ratio : 8\n",
      "region_damage_cost : 90\n",
      "region_cost_ratio : 90\n",
      "\n"
     ]
    }
   ],
   "source": [
    "# 빈 줄 출력 (가독성을 위한 줄바꿈)\n",
    "print()\n",
    "\n",
    "# 현재 시각 기준으로 작업 기록 시작을 알리는 메시지 출력\n",
    "print(f\"====== {current_time} 기록 ======\")\n",
    "\n",
    "# 데이터 JOIN 수행 전 테이블 상태 확인\n",
    "print(\"데이터 JOIN 전 테이블 COUNT\")\n",
    "verify_count() # 현재 데이터베이스에 저장된 행 수 출력\n",
    "print() # 줄바꿈\n",
    "\n",
    "# 연도별 피해 및 복구 비용 데이터를 JOIN하여 year_damage_cost 테이블 생성/추가\n",
    "join_year_damage_cost()\n",
    "\n",
    "# 연도별 재해 유형별 피해액 대비 복구비 비율을 계산하여 year_cost_ratio 테이블 생성/추가\n",
    "join_year_cost_ratio()\n",
    "\n",
    "# 지역별 피해 및 복구 비용 데이터를 JOIN하여 region_damage_cost 테이블 생성/추가\n",
    "join_region_damage_cost()\n",
    "\n",
    "# 지역별 재해 유형별 피해액 대비 복구비 비율을 계산하여 region_cost_ratio 테이블 생성/추가\n",
    "join_region_cost_ratio()\n",
    "\n",
    "# 데이터 JOIN 후 테이블 상태 확인\n",
    "print(\"데이터 JOIN 후 테이블 COUNT\")\n",
    "verify_count() # JOIN 후 데이터베이스에 저장된 행 수 출력\n",
    "print() # 줄바꿈"
   ]
  },
  {
   "cell_type": "code",
   "execution_count": null,
   "metadata": {
    "id": "o6Pe6J_vqt7r"
   },
   "outputs": [],
   "source": []
  }
 ],
 "metadata": {
  "colab": {
   "authorship_tag": "ABX9TyNPaPMalqZdNtfYwYmxiE1S",
   "provenance": []
  },
  "kernelspec": {
   "display_name": "Python 3",
   "name": "python3"
  },
  "language_info": {
   "name": "python"
  }
 },
 "nbformat": 4,
 "nbformat_minor": 0
}
